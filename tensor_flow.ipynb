{
  "nbformat": 4,
  "nbformat_minor": 0,
  "metadata": {
    "colab": {
      "name": "tensor_flow.ipynb",
      "version": "0.3.2",
      "provenance": [],
      "private_outputs": true,
      "toc_visible": true,
      "include_colab_link": true
    },
    "kernelspec": {
      "name": "python3",
      "display_name": "Python 3"
    }
  },
  "cells": [
    {
      "cell_type": "markdown",
      "metadata": {
        "id": "view-in-github",
        "colab_type": "text"
      },
      "source": [
        "<a href=\"https://colab.research.google.com/github/swapon15/machine_learning/blob/master/tensor_flow.ipynb\" target=\"_parent\"><img src=\"https://colab.research.google.com/assets/colab-badge.svg\" alt=\"Open In Colab\"/></a>"
      ]
    },
    {
      "metadata": {
        "id": "rMvzQa9NWFNK",
        "colab_type": "text"
      },
      "cell_type": "markdown",
      "source": [
        "#Note\n",
        "this working example is adapted from Udacity's ``Intro to TensorFlow for Deep Learning by TensorFlow''"
      ]
    },
    {
      "metadata": {
        "id": "GnnGANe4WC2q",
        "colab_type": "code",
        "colab": {}
      },
      "cell_type": "code",
      "source": [
        "from keras.models import Sequential\n",
        "from keras.layers import Dense, Activation\n",
        "import numpy as np"
      ],
      "execution_count": 0,
      "outputs": []
    },
    {
      "metadata": {
        "id": "RS_jUWULTpzG",
        "colab_type": "text"
      },
      "cell_type": "markdown",
      "source": [
        "##Ground truth data"
      ]
    },
    {
      "metadata": {
        "id": "ITgtMtsMNQ0B",
        "colab_type": "code",
        "colab": {}
      },
      "cell_type": "code",
      "source": [
        "data = np.array([25, 30, 33, 35, 40, 180],dtype=float)\n",
        "labels = np.array([77, 86, 91.4, 95, 104, 356] ,dtype=float)\n",
        "for i, cel in enumerate(data):\n",
        "  print('{} degree celcius = {} degree farenheight'.format(cel, labels[i]))"
      ],
      "execution_count": 0,
      "outputs": []
    },
    {
      "metadata": {
        "id": "QeTFZWQ1T1zu",
        "colab_type": "text"
      },
      "cell_type": "markdown",
      "source": [
        "##Building the model"
      ]
    },
    {
      "metadata": {
        "id": "vxStaC4NOZZp",
        "colab_type": "code",
        "colab": {}
      },
      "cell_type": "code",
      "source": [
        "model = Sequential([\n",
        "                   Dense(units=1, input_shape=[1]),\n",
        "                   Activation('relu'),\n",
        "                   ])\n",
        "\n",
        "model.compile(optimizer='adam',\n",
        "              loss='mse'\n",
        "             )\n",
        "history = model.fit(data, labels, epochs=600, verbose=False)"
      ],
      "execution_count": 0,
      "outputs": []
    },
    {
      "metadata": {
        "id": "M_6Mz_s0UBbe",
        "colab_type": "text"
      },
      "cell_type": "markdown",
      "source": [
        "##Plotting MSE "
      ]
    },
    {
      "metadata": {
        "id": "O4RkI0ikSV7j",
        "colab_type": "code",
        "colab": {}
      },
      "cell_type": "code",
      "source": [
        "import matplotlib.pyplot as plt\n",
        "plt.xlabel('Epoch')\n",
        "plt.ylabel('Error')\n",
        "plt.plot(history.history['loss'])\n"
      ],
      "execution_count": 0,
      "outputs": []
    },
    {
      "metadata": {
        "id": "7o4a8rmyUKVG",
        "colab_type": "text"
      },
      "cell_type": "markdown",
      "source": [
        "##Test the model"
      ]
    },
    {
      "metadata": {
        "id": "-IBSl0JCUON7",
        "colab_type": "code",
        "colab": {}
      },
      "cell_type": "code",
      "source": [
        "print('use the models for test data')\n",
        "test = [200.00, -75, 100.0]\n",
        "for t in test:\n",
        "  print('{} degree celcius is predicted as {} degree fahrenheit'.format(t, model.predict([t])[0][0]))"
      ],
      "execution_count": 0,
      "outputs": []
    },
    {
      "metadata": {
        "id": "dHNCJTM5ToHW",
        "colab_type": "text"
      },
      "cell_type": "markdown",
      "source": [
        ""
      ]
    }
  ]
}