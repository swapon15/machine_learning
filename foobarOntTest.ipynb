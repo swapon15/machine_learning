{
  "nbformat": 4,
  "nbformat_minor": 0,
  "metadata": {
    "colab": {
      "name": "Untitled2.ipynb",
      "provenance": [],
      "authorship_tag": "ABX9TyOehO2EVWgkylCQcWi8E3Ei",
      "include_colab_link": true
    },
    "kernelspec": {
      "name": "python3",
      "display_name": "Python 3"
    }
  },
  "cells": [
    {
      "cell_type": "markdown",
      "metadata": {
        "id": "view-in-github",
        "colab_type": "text"
      },
      "source": [
        "<a href=\"https://colab.research.google.com/github/swapon15/machine_learning/blob/master/foobarOntTest.ipynb\" target=\"_parent\"><img src=\"https://colab.research.google.com/assets/colab-badge.svg\" alt=\"Open In Colab\"/></a>"
      ]
    },
    {
      "cell_type": "markdown",
      "metadata": {
        "id": "9BZp1c_NkuMe"
      },
      "source": [
        "Collect and process data"
      ]
    },
    {
      "cell_type": "code",
      "metadata": {
        "id": "VLJT8GzkUwZs"
      },
      "source": [
        "import numpy as np\n",
        "sampleSize = 50\n",
        "sampleOne = np.random.randn(sampleSize) * 80\n",
        "sampleTwo = np.random.randn(sampleSize) * 200\n",
        "data = [sampleOne, sampleTwo]"
      ],
      "execution_count": 70,
      "outputs": []
    },
    {
      "cell_type": "markdown",
      "metadata": {
        "id": "gm-wN0KGk2Jn"
      },
      "source": [
        "Analyze data: there are so many ways to analyze your data depends on the problem hypothesis\n",
        "Here, we just see the data distribution with boxplot"
      ]
    },
    {
      "cell_type": "code",
      "metadata": {
        "colab": {
          "base_uri": "https://localhost:8080/",
          "height": 423
        },
        "id": "etU9OPDAWU6Y",
        "outputId": "10d5f9ff-2047-4c98-9dab-5392b6908a96"
      },
      "source": [
        "print(\"mean(sampleOne) %f , mean(sampleTwo) %f\" %(np.mean(sampleOne), np.mean(sampleTwo)))\n",
        "print(\"stdDev(sampleOne) %f , stdDev(sampleTwo) %f\" %(np.std(sampleOne), np.std(sampleTwo)))\n",
        "print(\"\\n\\n\")\n",
        "\n",
        "import matplotlib.pyplot as plt\n",
        "figure, ax = plt.subplots(figsize=(5,5))\n",
        "ax.set_title('Distribution of two samples', fontsize=15)\n",
        "ax.boxplot(data, showmeans=True, meanline=True)\n",
        "plt.xticks([1, 2], ['SampleOne', 'SampleTwo'])\n",
        "plt.show()\n"
      ],
      "execution_count": 73,
      "outputs": [
        {
          "output_type": "stream",
          "text": [
            "mean(sampleOne) 5.015386 , mean(sampleTwo) 6.450550\n",
            "stdDev(sampleOne) 85.034830 , stdDev(sampleTwo) 199.740902\n",
            "\n",
            "\n",
            "\n"
          ],
          "name": "stdout"
        },
        {
          "output_type": "display_data",
          "data": {
            "image/png": "[encoded data removed]",
            "text/plain": [
              "<Figure size 360x360 with 1 Axes>"
            ]
          },
          "metadata": {
            "tags": [],
            "needs_background": "light"
          }
        }
      ]
    },
    {
      "cell_type": "markdown",
      "metadata": {
        "id": "mrgembYdk-ny"
      },
      "source": [
        "Statistical significance test\n",
        "Again, we can do parametric and non-parametric both. There are several of them t-test, kruskal-walis, friedman, F-test etc.\n",
        "Determine what test you want. Here we do t-test at minimal"
      ]
    },
    {
      "cell_type": "code",
      "metadata": {
        "colab": {
          "base_uri": "https://localhost:8080/"
        },
        "id": "ed5_i_BifHlN",
        "outputId": "5a886005-8cf6-4ddb-f939-5dfeccd948a4"
      },
      "source": [
        "from scipy import stats\n",
        "result = stats.ttest_ind(sampleOne, sampleTwo)\n",
        "print(\"  t-statistic: %f \\n  p-value: %f\" %(result.statistic, result.pvalue))\n"
      ],
      "execution_count": 72,
      "outputs": [
        {
          "output_type": "stream",
          "text": [
            "  t-statistic: -0.046277 \n",
            "  p-value: 0.963184\n"
          ],
          "name": "stdout"
        }
      ]
    }
  ]
}