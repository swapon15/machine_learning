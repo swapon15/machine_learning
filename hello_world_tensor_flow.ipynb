{
  "nbformat": 4,
  "nbformat_minor": 0,
  "metadata": {
    "colab": {
      "name": "tensor_flow.ipynb",
      "version": "0.3.2",
      "provenance": [],
      "include_colab_link": true
    },
    "kernelspec": {
      "name": "python3",
      "display_name": "Python 3"
    }
  },
  "cells": [
    {
      "cell_type": "markdown",
      "metadata": {
        "id": "view-in-github",
        "colab_type": "text"
      },
      "source": [
        "<a href=\"https://colab.research.google.com/github/swapon15/machine_learning/blob/master/hello_world_tensor_flow.ipynb\" target=\"_parent\"><img src=\"https://colab.research.google.com/assets/colab-badge.svg\" alt=\"Open In Colab\"/></a>"
      ]
    },
    {
      "metadata": {
        "id": "rMvzQa9NWFNK",
        "colab_type": "text"
      },
      "cell_type": "markdown",
      "source": [
        "#Note\n",
        "this working example is adapted from Udacity's ``Intro to TensorFlow for Deep Learning by TensorFlow''"
      ]
    },
    {
      "metadata": {
        "id": "GnnGANe4WC2q",
        "colab_type": "code",
        "colab": {}
      },
      "cell_type": "code",
      "source": [
        "import tensorflow as tf\n",
        "import numpy as np"
      ],
      "execution_count": 0,
      "outputs": []
    },
    {
      "metadata": {
        "id": "RS_jUWULTpzG",
        "colab_type": "text"
      },
      "cell_type": "markdown",
      "source": [
        "##Ground truth data"
      ]
    },
    {
      "metadata": {
        "id": "ITgtMtsMNQ0B",
        "colab_type": "code",
        "colab": {
          "base_uri": "https://localhost:8080/",
          "height": 119
        },
        "outputId": "75486fd4-08dc-438d-b282-6e770dfb9634"
      },
      "cell_type": "code",
      "source": [
        "celcius = np.array([25, 30, 33, 35, 40, 180],dtype=float)\n",
        "farenheight = np.array([77, 86, 91.4, 95, 104, 356] ,dtype=float)\n",
        "for i, cel in enumerate(celcius):\n",
        "  print('{} degree celcius = {} degree farenheight'.format(cel, farenheight[i]))"
      ],
      "execution_count": 30,
      "outputs": [
        {
          "output_type": "stream",
          "text": [
            "25.0 degree celcius = 77.0 degree farenheight\n",
            "30.0 degree celcius = 86.0 degree farenheight\n",
            "33.0 degree celcius = 91.4 degree farenheight\n",
            "35.0 degree celcius = 95.0 degree farenheight\n",
            "40.0 degree celcius = 104.0 degree farenheight\n",
            "180.0 degree celcius = 356.0 degree farenheight\n"
          ],
          "name": "stdout"
        }
      ]
    },
    {
      "metadata": {
        "id": "QeTFZWQ1T1zu",
        "colab_type": "text"
      },
      "cell_type": "markdown",
      "source": [
        "##Building the model"
      ]
    },
    {
      "metadata": {
        "id": "vxStaC4NOZZp",
        "colab_type": "code",
        "colab": {}
      },
      "cell_type": "code",
      "source": [
        "model = tf.keras.Sequential([tf.keras.layers.Dense(units=1, input_shape=[1])])\n",
        "model.compile(optimizer=tf.keras.optimizers.Adam(0.1), loss='mean_squared_error')\n",
        "history = model.fit(celcius, farenheight, epochs=500, verbose=False)"
      ],
      "execution_count": 0,
      "outputs": []
    },
    {
      "metadata": {
        "id": "M_6Mz_s0UBbe",
        "colab_type": "text"
      },
      "cell_type": "markdown",
      "source": [
        "##Plotting MSE "
      ]
    },
    {
      "metadata": {
        "id": "O4RkI0ikSV7j",
        "colab_type": "code",
        "colab": {
          "base_uri": "https://localhost:8080/",
          "height": 378
        },
        "outputId": "ed38c49d-af05-48a7-b7b9-e6ab92ec940d"
      },
      "cell_type": "code",
      "source": [
        "import matplotlib.pyplot as plt\n",
        "plt.xlabel('Epoch')\n",
        "plt.ylabel('Error')\n",
        "plt.plot(history.history['loss'])\n"
      ],
      "execution_count": 32,
      "outputs": [
        {
          "output_type": "execute_result",
          "data": {
            "text/plain": [
              "[<matplotlib.lines.Line2D at 0x7f7a48d74710>]"
            ]
          },
          "metadata": {
            "tags": []
          },
          "execution_count": 32
        },
        {
          "output_type": "display_data",
          "data": {
            "image/png": "[encoded data removed]",
            "text/plain": [
              "<Figure size 576x396 with 1 Axes>"
            ]
          },
          "metadata": {
            "tags": []
          }
        }
      ]
    },
    {
      "metadata": {
        "id": "7o4a8rmyUKVG",
        "colab_type": "text"
      },
      "cell_type": "markdown",
      "source": [
        "##Test the model"
      ]
    },
    {
      "metadata": {
        "id": "-IBSl0JCUON7",
        "colab_type": "code",
        "colab": {
          "base_uri": "https://localhost:8080/",
          "height": 85
        },
        "outputId": "c621336e-bdd3-4e9a-f679-ff070b3638ef"
      },
      "cell_type": "code",
      "source": [
        "print('use the models for test data')\n",
        "test = [200.00, -75, 100.0]\n",
        "for t in test:\n",
        "  print(model.predict([t]))"
      ],
      "execution_count": 33,
      "outputs": [
        {
          "output_type": "stream",
          "text": [
            "use the models for test data\n",
            "[[394.89047]]\n",
            "[[-108.94882]]\n",
            "[[211.6762]]\n"
          ],
          "name": "stdout"
        }
      ]
    },
    {
      "metadata": {
        "id": "dHNCJTM5ToHW",
        "colab_type": "text"
      },
      "cell_type": "markdown",
      "source": [
        ""
      ]
    },
    {
      "metadata": {
        "id": "s2-mcmVeXPoW",
        "colab_type": "code",
        "colab": {
          "base_uri": "https://localhost:8080/",
          "height": 34
        },
        "outputId": "722d9212-093c-4355-cd4f-adce127da8eb"
      },
      "cell_type": "code",
      "source": [
        " "
      ],
      "execution_count": 34,
      "outputs": [
        {
          "output_type": "stream",
          "text": [
            "fatal: not a git repository (or any of the parent directories): .git\n"
          ],
          "name": "stdout"
        }
      ]
    }
  ]
}