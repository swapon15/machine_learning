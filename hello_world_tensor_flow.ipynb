{
  "nbformat": 4,
  "nbformat_minor": 0,
  "metadata": {
    "colab": {
      "name": "tensor_flow.ipynb",
      "version": "0.3.2",
      "provenance": [],
      "include_colab_link": true
    },
    "kernelspec": {
      "name": "python3",
      "display_name": "Python 3"
    }
  },
  "cells": [
    {
      "cell_type": "markdown",
      "metadata": {
        "id": "view-in-github",
        "colab_type": "text"
      },
      "source": [
        "<a href=\"https://colab.research.google.com/github/swapon15/machine_learning/blob/master/hello_world_tensor_flow.ipynb\" target=\"_parent\"><img src=\"https://colab.research.google.com/assets/colab-badge.svg\" alt=\"Open In Colab\"/></a>"
      ]
    },
    {
      "metadata": {
        "id": "LxGHBHVcMdrK",
        "colab_type": "code",
        "colab": {}
      },
      "cell_type": "code",
      "source": [
        "import tensorflow as tf\n",
        "import numpy as np"
      ],
      "execution_count": 0,
      "outputs": []
    },
    {
      "metadata": {
        "id": "RS_jUWULTpzG",
        "colab_type": "text"
      },
      "cell_type": "markdown",
      "source": [
        "##Ground truth data"
      ]
    },
    {
      "metadata": {
        "id": "ITgtMtsMNQ0B",
        "colab_type": "code",
        "colab": {}
      },
      "cell_type": "code",
      "source": [
        "celcius = np.array([25, 30, 33, 35, 40, 180],dtype=float)\n",
        "farenheight = np.array([77, 86, 91.4, 95, 104, 356] ,dtype=float)\n",
        "for i, cel in enumerate(celcius):\n",
        "  print('{} degree celcius = {} degree farenheight'.format(cel, farenheight[i]))"
      ],
      "execution_count": 0,
      "outputs": []
    },
    {
      "metadata": {
        "id": "QeTFZWQ1T1zu",
        "colab_type": "text"
      },
      "cell_type": "markdown",
      "source": [
        "##Building the model"
      ]
    },
    {
      "metadata": {
        "id": "vxStaC4NOZZp",
        "colab_type": "code",
        "colab": {}
      },
      "cell_type": "code",
      "source": [
        "model = tf.keras.Sequential([tf.keras.layers.Dense(units=1, input_shape=[1])])\n",
        "model.compile(optimizer=tf.keras.optimizers.Adam(0.1), loss='mean_squared_error')\n",
        "history = model.fit(celcius, farenheight, epochs=500, verbose=False)"
      ],
      "execution_count": 0,
      "outputs": []
    },
    {
      "metadata": {
        "id": "M_6Mz_s0UBbe",
        "colab_type": "text"
      },
      "cell_type": "markdown",
      "source": [
        "##Plotting MSE "
      ]
    },
    {
      "metadata": {
        "id": "O4RkI0ikSV7j",
        "colab_type": "code",
        "colab": {}
      },
      "cell_type": "code",
      "source": [
        "import matplotlib.pyplot as plt\n",
        "plt.xlabel('Epoch')\n",
        "plt.ylabel('Error')\n",
        "plt.plot(history.history['loss'])\n"
      ],
      "execution_count": 0,
      "outputs": []
    },
    {
      "metadata": {
        "id": "7o4a8rmyUKVG",
        "colab_type": "text"
      },
      "cell_type": "markdown",
      "source": [
        "##Test the model"
      ]
    },
    {
      "metadata": {
        "id": "-IBSl0JCUON7",
        "colab_type": "code",
        "colab": {
          "base_uri": "https://localhost:8080/",
          "height": 85
        },
        "outputId": "d0f1a261-480d-429a-f889-cac0951369e4"
      },
      "cell_type": "code",
      "source": [
        "print('use the models for test data')\n",
        "test = [200.00, -75, 100.0]\n",
        "for t in test:\n",
        "  print(model.predict([t]))"
      ],
      "execution_count": 28,
      "outputs": [
        {
          "output_type": "stream",
          "text": [
            "use the models for test data\n",
            "[[406.7663]]\n",
            "[[-133.12192]]\n",
            "[[210.4433]]\n"
          ],
          "name": "stdout"
        }
      ]
    },
    {
      "metadata": {
        "id": "dHNCJTM5ToHW",
        "colab_type": "text"
      },
      "cell_type": "markdown",
      "source": [
        ""
      ]
    }
  ]
}